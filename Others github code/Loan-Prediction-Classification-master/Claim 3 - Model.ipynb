{
 "cells": [
  {
   "cell_type": "code",
   "execution_count": 1,
   "metadata": {
    "collapsed": true
   },
   "outputs": [],
   "source": [
    "#To make predictions on the test set I will use a gradient boosting method.\n",
    "#For more info see: https://en.wikipedia.org/wiki/Gradient_boosting\n",
    "\n",
    "import pandas as pd\n",
    "import numpy as np\n",
    "from sklearn.cross_validation import train_test_split\n",
    "from sklearn.grid_search import GridSearchCV\n",
    "from sklearn.ensemble import GradientBoostingClassifier\n",
    "\n",
    "train_loc = r\"C:\\Users\\me\\Documents\\datasets\\claim_train2.csv\"\n",
    "test_loc = r\"C:\\Users\\me\\Documents\\datasets\\claim_test2.csv\"\n",
    "submit_loc = r\"C:\\Users\\me\\Documents\\datasets\\claim_submit.csv\"\n",
    "\n",
    "train = pd.read_csv(train_loc)\n",
    "test = pd.read_csv(test_loc)"
   ]
  },
  {
   "cell_type": "code",
   "execution_count": 2,
   "metadata": {
    "collapsed": true
   },
   "outputs": [],
   "source": [
    "#Create dummy variables then shuffle the train set.\n",
    "\n",
    "cols = ['Gender', 'Married', 'Dependents', 'Education', 'Self_Employed',\n",
    "       'Credit_History', 'Property_Area']\n",
    "\n",
    "train = pd.get_dummies(train, columns = cols)\n",
    "test = pd.get_dummies(test, columns = cols)\n",
    "\n",
    "train = train.sample(frac=1).reset_index(drop=True)"
   ]
  },
  {
   "cell_type": "code",
   "execution_count": 3,
   "metadata": {
    "collapsed": true
   },
   "outputs": [],
   "source": [
    "#Set the target variable.\n",
    "\n",
    "y = train.Loan_Status"
   ]
  },
  {
   "cell_type": "code",
   "execution_count": 4,
   "metadata": {
    "collapsed": true
   },
   "outputs": [],
   "source": [
    "#Drop the unnecessary columns and prepare or data for our submission file.\n",
    "\n",
    "train =  train.drop(['Loan_ID', 'Loan_Status'], axis=1)\n",
    "X = train.astype(np.float32)\n",
    "submit = test['Loan_ID']"
   ]
  },
  {
   "cell_type": "code",
   "execution_count": 5,
   "metadata": {
    "collapsed": true
   },
   "outputs": [],
   "source": [
    "#Do the same for the test set. Unlike the train set there was no unknown data in the married \n",
    "#column on the test set. As a result we have to insert a Married Unknown column as Pandas did\n",
    "#not create this column when we ran pd.get_dummies() on the test set.\n",
    "\n",
    "test = test.drop('Loan_ID', axis=1)\n",
    "test.insert(8, 'Married_Unknown', 0)"
   ]
  },
  {
   "cell_type": "code",
   "execution_count": 6,
   "metadata": {
    "collapsed": true
   },
   "outputs": [],
   "source": [
    "#Use Scikit-Learn's train_test_split function to create train and validation sets.\n",
    "\n",
    "X_train, X_val, y_train, y_val = train_test_split(X, y, train_size=0.8)"
   ]
  },
  {
   "cell_type": "code",
   "execution_count": 7,
   "metadata": {
    "collapsed": true
   },
   "outputs": [],
   "source": [
    "#Create a function to run a gradient boosted classifier over our data. The reason we have to\n",
    "#do this is due to the way Python uses parallelization on Windows.\n",
    "#https://www.kaggle.com/c/malware-classification/forums/t/12802/\n",
    "#anyone-getting-parallelizing-error-for-scikit-learn-based-models-in-python/66187#post66187\n",
    "\n",
    "#Note numerous different values were used in the param_grid to hone in on the best paramater\n",
    "#combinations. The param grid below is the final one I used.\n",
    "\n",
    "def model(X_train, X_val, y_train, y_val):\n",
    "    if __name__ == '__main__':\n",
    "    \n",
    "        param_grid = {'learning_rate': [0.03, 0.035],\n",
    "                      'max_depth': [3, 4, 5],\n",
    "                      'min_samples_leaf': [17, 18],\n",
    "                      'max_features': [1.0, 0.95, 0.9],\n",
    "                      'n_estimators': [100, 300, 500]\n",
    "                      }\n",
    "\n",
    "        estimator = GridSearchCV(estimator=GradientBoostingClassifier(),\n",
    "                                 param_grid=param_grid,\n",
    "                                 n_jobs=-1)\n",
    "\n",
    "        estimator.fit(X_train, y_train)\n",
    "\n",
    "        best_params = estimator.best_params_\n",
    "                                 \n",
    "        validation_accuracy = estimator.score(X_val, y_val)\n",
    "        print('Validation accuracy: ', validation_accuracy)\n",
    "        \n",
    "        return best_params"
   ]
  },
  {
   "cell_type": "code",
   "execution_count": 9,
   "metadata": {
    "collapsed": true
   },
   "outputs": [],
   "source": [
    "#params that appeared most often after running the model ten times.\n",
    "    \n",
    "params = {'min_samples_leaf': 17, 'max_features': 0.95, 'max_depth': 3,\n",
    "          'learning_rate': 0.03, 'n_estimators': 500}"
   ]
  },
  {
   "cell_type": "code",
   "execution_count": 10,
   "metadata": {
    "collapsed": false
   },
   "outputs": [
    {
     "data": {
      "text/plain": [
       "GradientBoostingClassifier(init=None, learning_rate=0.03, loss='deviance',\n",
       "              max_depth=3, max_features=0.95, max_leaf_nodes=None,\n",
       "              min_samples_leaf=17, min_samples_split=2,\n",
       "              min_weight_fraction_leaf=0.0, n_estimators=500,\n",
       "              presort='auto', random_state=None, subsample=1.0, verbose=0,\n",
       "              warm_start=False)"
      ]
     },
     "execution_count": 10,
     "metadata": {},
     "output_type": "execute_result"
    }
   ],
   "source": [
    "#Fit model using our data and the best parameters found by GridSearchCV.\n",
    "\n",
    "model = GradientBoostingClassifier(**params)\n",
    "model.fit(X, y)"
   ]
  },
  {
   "cell_type": "code",
   "execution_count": 11,
   "metadata": {
    "collapsed": true
   },
   "outputs": [],
   "source": [
    "#Make predictions on the test set.\n",
    "\n",
    "preds = model.predict(test)"
   ]
  },
  {
   "cell_type": "code",
   "execution_count": 12,
   "metadata": {
    "collapsed": true
   },
   "outputs": [],
   "source": [
    "#Create submission file.\n",
    "\n",
    "preds = pd.Series(preds)\n",
    "submit = pd.concat([submit, preds], names=['Loan_ID', 'Loan_Status'], axis=1)\n",
    "submit.columns = ['Loan_ID', 'Loan_Status']"
   ]
  },
  {
   "cell_type": "code",
   "execution_count": null,
   "metadata": {
    "collapsed": true
   },
   "outputs": [],
   "source": [
    "#Create CSV file for submission.\n",
    "\n",
    "submit.to_csv('loan1.csv', index=False)"
   ]
  },
  {
   "cell_type": "code",
   "execution_count": null,
   "metadata": {
    "collapsed": true
   },
   "outputs": [],
   "source": [
    "#Here's how the model performed on the leaderboard.\n",
    "#score 0.798611, position 33/413. \n",
    "\n",
    "#Note - model submitted on 09/09/2016."
   ]
  }
 ],
 "metadata": {
  "anaconda-cloud": {},
  "kernelspec": {
   "display_name": "Python [Root]",
   "language": "python",
   "name": "Python [Root]"
  },
  "language_info": {
   "codemirror_mode": {
    "name": "ipython",
    "version": 3
   },
   "file_extension": ".py",
   "mimetype": "text/x-python",
   "name": "python",
   "nbconvert_exporter": "python",
   "pygments_lexer": "ipython3",
   "version": "3.5.2"
  }
 },
 "nbformat": 4,
 "nbformat_minor": 0
}
