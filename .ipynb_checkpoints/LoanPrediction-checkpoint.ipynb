{
 "cells": [
  {
   "cell_type": "code",
   "execution_count": 5,
   "metadata": {},
   "outputs": [
    {
     "data": {
      "text/html": [
       "<div>\n",
       "<style>\n",
       "    .dataframe thead tr:only-child th {\n",
       "        text-align: right;\n",
       "    }\n",
       "\n",
       "    .dataframe thead th {\n",
       "        text-align: left;\n",
       "    }\n",
       "\n",
       "    .dataframe tbody tr th {\n",
       "        vertical-align: top;\n",
       "    }\n",
       "</style>\n",
       "<table border=\"1\" class=\"dataframe\">\n",
       "  <thead>\n",
       "    <tr style=\"text-align: right;\">\n",
       "      <th></th>\n",
       "      <th>Loan_ID</th>\n",
       "      <th>Gender</th>\n",
       "      <th>Married</th>\n",
       "      <th>Dependents</th>\n",
       "      <th>Education</th>\n",
       "      <th>Self_Employed</th>\n",
       "      <th>ApplicantIncome</th>\n",
       "      <th>CoapplicantIncome</th>\n",
       "      <th>LoanAmount</th>\n",
       "      <th>Loan_Amount_Term</th>\n",
       "      <th>Credit_History</th>\n",
       "      <th>Property_Area</th>\n",
       "      <th>Loan_Status</th>\n",
       "    </tr>\n",
       "  </thead>\n",
       "  <tbody>\n",
       "    <tr>\n",
       "      <th>0</th>\n",
       "      <td>LP001002</td>\n",
       "      <td>Male</td>\n",
       "      <td>No</td>\n",
       "      <td>0</td>\n",
       "      <td>Graduate</td>\n",
       "      <td>No</td>\n",
       "      <td>5849</td>\n",
       "      <td>0.0</td>\n",
       "      <td>NaN</td>\n",
       "      <td>360.0</td>\n",
       "      <td>1.0</td>\n",
       "      <td>Urban</td>\n",
       "      <td>Y</td>\n",
       "    </tr>\n",
       "    <tr>\n",
       "      <th>1</th>\n",
       "      <td>LP001003</td>\n",
       "      <td>Male</td>\n",
       "      <td>Yes</td>\n",
       "      <td>1</td>\n",
       "      <td>Graduate</td>\n",
       "      <td>No</td>\n",
       "      <td>4583</td>\n",
       "      <td>1508.0</td>\n",
       "      <td>128.0</td>\n",
       "      <td>360.0</td>\n",
       "      <td>1.0</td>\n",
       "      <td>Rural</td>\n",
       "      <td>N</td>\n",
       "    </tr>\n",
       "    <tr>\n",
       "      <th>2</th>\n",
       "      <td>LP001005</td>\n",
       "      <td>Male</td>\n",
       "      <td>Yes</td>\n",
       "      <td>0</td>\n",
       "      <td>Graduate</td>\n",
       "      <td>Yes</td>\n",
       "      <td>3000</td>\n",
       "      <td>0.0</td>\n",
       "      <td>66.0</td>\n",
       "      <td>360.0</td>\n",
       "      <td>1.0</td>\n",
       "      <td>Urban</td>\n",
       "      <td>Y</td>\n",
       "    </tr>\n",
       "    <tr>\n",
       "      <th>3</th>\n",
       "      <td>LP001006</td>\n",
       "      <td>Male</td>\n",
       "      <td>Yes</td>\n",
       "      <td>0</td>\n",
       "      <td>Not Graduate</td>\n",
       "      <td>No</td>\n",
       "      <td>2583</td>\n",
       "      <td>2358.0</td>\n",
       "      <td>120.0</td>\n",
       "      <td>360.0</td>\n",
       "      <td>1.0</td>\n",
       "      <td>Urban</td>\n",
       "      <td>Y</td>\n",
       "    </tr>\n",
       "    <tr>\n",
       "      <th>4</th>\n",
       "      <td>LP001008</td>\n",
       "      <td>Male</td>\n",
       "      <td>No</td>\n",
       "      <td>0</td>\n",
       "      <td>Graduate</td>\n",
       "      <td>No</td>\n",
       "      <td>6000</td>\n",
       "      <td>0.0</td>\n",
       "      <td>141.0</td>\n",
       "      <td>360.0</td>\n",
       "      <td>1.0</td>\n",
       "      <td>Urban</td>\n",
       "      <td>Y</td>\n",
       "    </tr>\n",
       "    <tr>\n",
       "      <th>5</th>\n",
       "      <td>LP001011</td>\n",
       "      <td>Male</td>\n",
       "      <td>Yes</td>\n",
       "      <td>2</td>\n",
       "      <td>Graduate</td>\n",
       "      <td>Yes</td>\n",
       "      <td>5417</td>\n",
       "      <td>4196.0</td>\n",
       "      <td>267.0</td>\n",
       "      <td>360.0</td>\n",
       "      <td>1.0</td>\n",
       "      <td>Urban</td>\n",
       "      <td>Y</td>\n",
       "    </tr>\n",
       "    <tr>\n",
       "      <th>6</th>\n",
       "      <td>LP001013</td>\n",
       "      <td>Male</td>\n",
       "      <td>Yes</td>\n",
       "      <td>0</td>\n",
       "      <td>Not Graduate</td>\n",
       "      <td>No</td>\n",
       "      <td>2333</td>\n",
       "      <td>1516.0</td>\n",
       "      <td>95.0</td>\n",
       "      <td>360.0</td>\n",
       "      <td>1.0</td>\n",
       "      <td>Urban</td>\n",
       "      <td>Y</td>\n",
       "    </tr>\n",
       "    <tr>\n",
       "      <th>7</th>\n",
       "      <td>LP001014</td>\n",
       "      <td>Male</td>\n",
       "      <td>Yes</td>\n",
       "      <td>3+</td>\n",
       "      <td>Graduate</td>\n",
       "      <td>No</td>\n",
       "      <td>3036</td>\n",
       "      <td>2504.0</td>\n",
       "      <td>158.0</td>\n",
       "      <td>360.0</td>\n",
       "      <td>0.0</td>\n",
       "      <td>Semiurban</td>\n",
       "      <td>N</td>\n",
       "    </tr>\n",
       "    <tr>\n",
       "      <th>8</th>\n",
       "      <td>LP001018</td>\n",
       "      <td>Male</td>\n",
       "      <td>Yes</td>\n",
       "      <td>2</td>\n",
       "      <td>Graduate</td>\n",
       "      <td>No</td>\n",
       "      <td>4006</td>\n",
       "      <td>1526.0</td>\n",
       "      <td>168.0</td>\n",
       "      <td>360.0</td>\n",
       "      <td>1.0</td>\n",
       "      <td>Urban</td>\n",
       "      <td>Y</td>\n",
       "    </tr>\n",
       "    <tr>\n",
       "      <th>9</th>\n",
       "      <td>LP001020</td>\n",
       "      <td>Male</td>\n",
       "      <td>Yes</td>\n",
       "      <td>1</td>\n",
       "      <td>Graduate</td>\n",
       "      <td>No</td>\n",
       "      <td>12841</td>\n",
       "      <td>10968.0</td>\n",
       "      <td>349.0</td>\n",
       "      <td>360.0</td>\n",
       "      <td>1.0</td>\n",
       "      <td>Semiurban</td>\n",
       "      <td>N</td>\n",
       "    </tr>\n",
       "  </tbody>\n",
       "</table>\n",
       "</div>"
      ],
      "text/plain": [
       "    Loan_ID Gender Married Dependents     Education Self_Employed  \\\n",
       "0  LP001002   Male      No          0      Graduate            No   \n",
       "1  LP001003   Male     Yes          1      Graduate            No   \n",
       "2  LP001005   Male     Yes          0      Graduate           Yes   \n",
       "3  LP001006   Male     Yes          0  Not Graduate            No   \n",
       "4  LP001008   Male      No          0      Graduate            No   \n",
       "5  LP001011   Male     Yes          2      Graduate           Yes   \n",
       "6  LP001013   Male     Yes          0  Not Graduate            No   \n",
       "7  LP001014   Male     Yes         3+      Graduate            No   \n",
       "8  LP001018   Male     Yes          2      Graduate            No   \n",
       "9  LP001020   Male     Yes          1      Graduate            No   \n",
       "\n",
       "   ApplicantIncome  CoapplicantIncome  LoanAmount  Loan_Amount_Term  \\\n",
       "0             5849                0.0         NaN             360.0   \n",
       "1             4583             1508.0       128.0             360.0   \n",
       "2             3000                0.0        66.0             360.0   \n",
       "3             2583             2358.0       120.0             360.0   \n",
       "4             6000                0.0       141.0             360.0   \n",
       "5             5417             4196.0       267.0             360.0   \n",
       "6             2333             1516.0        95.0             360.0   \n",
       "7             3036             2504.0       158.0             360.0   \n",
       "8             4006             1526.0       168.0             360.0   \n",
       "9            12841            10968.0       349.0             360.0   \n",
       "\n",
       "   Credit_History Property_Area Loan_Status  \n",
       "0             1.0         Urban           Y  \n",
       "1             1.0         Rural           N  \n",
       "2             1.0         Urban           Y  \n",
       "3             1.0         Urban           Y  \n",
       "4             1.0         Urban           Y  \n",
       "5             1.0         Urban           Y  \n",
       "6             1.0         Urban           Y  \n",
       "7             0.0     Semiurban           N  \n",
       "8             1.0         Urban           Y  \n",
       "9             1.0     Semiurban           N  "
      ]
     },
     "execution_count": 5,
     "metadata": {},
     "output_type": "execute_result"
    }
   ],
   "source": [
    "%matplotlib inline\n",
    "\n",
    "from sklearn.preprocessing import Imputer\n",
    "from HelperClass import HelperClass\n",
    "\n",
    "import numpy as np\n",
    "import pandas as pd\n",
    "import matplotlib.pyplot as plt\n",
    "import seaborn as sns\n",
    "sns.set(style='darkgrid')\n",
    "\n",
    "\n",
    "trainData = pd.read_csv('./train_u6lujuX_CVtuZ9i.csv')\n",
    "trainData.shape\n",
    "\n",
    "trainData.head(10)"
   ]
  },
  {
   "cell_type": "code",
   "execution_count": 6,
   "metadata": {
    "scrolled": true
   },
   "outputs": [
    {
     "name": "stdout",
     "output_type": "stream",
     "text": [
      "Loan_ID               0\n",
      "Gender               13\n",
      "Married               3\n",
      "Dependents           15\n",
      "Education             0\n",
      "Self_Employed        32\n",
      "ApplicantIncome       0\n",
      "CoapplicantIncome     0\n",
      "LoanAmount           22\n",
      "Loan_Amount_Term     14\n",
      "Credit_History       50\n",
      "Property_Area         0\n",
      "Loan_Status           0\n",
      "dtype: int64\n"
     ]
    }
   ],
   "source": [
    "# Missing Value\n",
    "miss_data = trainData.isnull().sum(axis=0)\n",
    "print(miss_data)"
   ]
  },
  {
   "cell_type": "code",
   "execution_count": 7,
   "metadata": {},
   "outputs": [
    {
     "name": "stdout",
     "output_type": "stream",
     "text": [
      "Loan_ID              0\n",
      "Gender               0\n",
      "Married              0\n",
      "Dependents           0\n",
      "Education            0\n",
      "Self_Employed        0\n",
      "ApplicantIncome      0\n",
      "CoapplicantIncome    0\n",
      "LoanAmount           0\n",
      "Loan_Amount_Term     0\n",
      "Credit_History       0\n",
      "Property_Area        0\n",
      "Loan_Status          0\n",
      "dtype: int64\n"
     ]
    }
   ],
   "source": [
    "#------------------------------------------------ X_train Data ----------------------------------------------------------------#\n",
    "\n",
    "#---------------- Fill Mising Values--------------------------------#\n",
    "## Gender Column\n",
    "trainData['Gender'].fillna('Other', inplace = True)\n",
    "\n",
    "## Married Column\n",
    "trainData['Married'].fillna('Yes', inplace = True)\n",
    "\n",
    "## Dependents Column\n",
    "trainData['Dependents'].fillna('4', inplace = True)\n",
    "\n",
    "## Self_Employed Column\n",
    "trainData['Self_Employed'].fillna('Yes', inplace = True)\n",
    "\n",
    "## LoanAmount Column\n",
    "trainData['LoanAmount'].fillna((trainData['LoanAmount'].mean()), inplace = True)\n",
    "\n",
    "## Loan_Amount_Term Column\n",
    "trainData['Loan_Amount_Term'].fillna((trainData['Loan_Amount_Term'].mean()), inplace = True)\n",
    "\n",
    "## Credit_History Column\n",
    "trainData['Credit_History'].fillna((trainData['Credit_History'].mean()), inplace = True)\n",
    "\n",
    "# Missing Value After filled\n",
    "miss_data = trainData.isnull().sum(axis=0)\n",
    "print(miss_data)"
   ]
  },
  {
   "cell_type": "code",
   "execution_count": 8,
   "metadata": {},
   "outputs": [],
   "source": [
    "trainData['Gender'] = trainData['Gender'].map({'Female' : 0, 'Male' : 1})\n",
    "trainData['Married'] = trainData['Married'].map({'No':0, 'Yes':1})\n",
    "trainData['Education'] = trainData['Education'].map({'Not Graduate':0, 'Graduate':1})\n",
    "trainData['Self_Employed'] = trainData['Self_Employed'].map({'No':0, 'Yes':1})\n",
    "trainData['Property_Area'] = trainData['Property_Area'].map({'Urban':3, 'Semiurban':2, 'Rural':1})\n",
    "trainData['Loan_Status'] = trainData['Loan_Status'].map({'N' : 0, 'Y' : 1})"
   ]
  },
  {
   "cell_type": "code",
   "execution_count": 9,
   "metadata": {},
   "outputs": [
    {
     "data": {
      "text/plain": [
       "<matplotlib.axes._subplots.AxesSubplot at 0x11b40b748>"
      ]
     },
     "execution_count": 9,
     "metadata": {},
     "output_type": "execute_result"
    },
    {
     "data": {
      "image/png": "[encoded data removed]",
      "text/plain": [
       "<matplotlib.figure.Figure at 0x11b40bc18>"
      ]
     },
     "metadata": {},
     "output_type": "display_data"
    }
   ],
   "source": [
    "sns.barplot(x = 'Gender', y ='Loan_Status', data=trainData)"
   ]
  },
  {
   "cell_type": "code",
   "execution_count": null,
   "metadata": {
    "collapsed": true
   },
   "outputs": [],
   "source": [
    "sns.barplot(x = 'Education', y ='Loan_Status', data=trainData)"
   ]
  },
  {
   "cell_type": "code",
   "execution_count": null,
   "metadata": {
    "collapsed": true
   },
   "outputs": [],
   "source": [
    "sns.barplot(x = 'Education', y ='Loan_Status', data=trainData)"
   ]
  },
  {
   "cell_type": "code",
   "execution_count": null,
   "metadata": {
    "collapsed": true
   },
   "outputs": [],
   "source": [
    "sns.barplot(x = 'Self_Employed', y ='Loan_Status', data=trainData)"
   ]
  },
  {
   "cell_type": "code",
   "execution_count": null,
   "metadata": {
    "collapsed": true
   },
   "outputs": [],
   "source": [
    "sns.barplot(x = 'Property_Area', y ='Loan_Status', data=trainData)"
   ]
  },
  {
   "cell_type": "code",
   "execution_count": null,
   "metadata": {},
   "outputs": [],
   "source": [
    "#---------------- Label Encoding Values--------------------------------\n",
    "\n",
    "# Label Encoding categorical data\n",
    "X = trainData.iloc[:,1:12].values\n",
    "y = trainData.iloc[:, 12].values\n",
    "\n",
    "from sklearn.preprocessing import LabelEncoder, OneHotEncoder\n",
    "from HelperClass import HelperClass\n",
    "\n",
    "labelencoder_X_2 = LabelEncoder()\n",
    "\n",
    "# Gender Column\n",
    "X[:, 0] = labelencoder_X_2.fit_transform(X[:, 0])\n",
    "\n",
    "# Married Column\n",
    "X[:, 1] = labelencoder_X_2.fit_transform(X[:, 1])\n",
    "\n",
    "# Dependents Column\n",
    "X[:, 2] = labelencoder_X_2.fit_transform(X[:, 2])\n",
    "\n",
    "# Self_Employed Column\n",
    "X[:, 3] = labelencoder_X_2.fit_transform(X[:, 3])\n",
    "\n",
    "# Education Column\n",
    "X[:, 4] = labelencoder_X_2.fit_transform(X[:, 4])\n",
    "\n",
    "# Property Area Column\n",
    "X[:, 10] = labelencoder_X_2.fit_transform(X[:, 10])\n",
    "\n",
    "X"
   ]
  },
  {
   "cell_type": "code",
   "execution_count": null,
   "metadata": {},
   "outputs": [],
   "source": [
    "import keras\n",
    "from keras.models import Sequential\n",
    "from keras.layers import Dense\n",
    "from keras.layers import Dropout\n",
    "\n",
    "from sklearn.model_selection import train_test_split\n",
    "X_train, X_test, y_train, y_test = train_test_split(X, y, test_size=0.2, random_state=0) \n",
    "\n",
    "# Initialising the ANN\n",
    "classifier = Sequential()\n",
    "\n",
    "# Adding the input layer and the first hidden layer with dropout \n",
    "classifier.add(Dense(units = 6, kernel_initializer = 'uniform', activation = 'relu', input_dim = 11))\n",
    "#classifier.add(Dropout(p = 0.1))\n",
    "# Adding the second hidden layer\n",
    "classifier.add(Dense(units = 6, kernel_initializer = 'uniform', activation = 'relu'))\n",
    "#classifier.add(Dropout(p = 0.1))\n",
    "# Adding the output layer\n",
    "classifier.add(Dense(units = 1, kernel_initializer = 'uniform', activation = 'sigmoid'))\n",
    "\n",
    "# Compiling the ANN\n",
    "classifier.compile(optimizer = 'adam', loss = 'binary_crossentropy', metrics = ['accuracy'])\n",
    "\n",
    "# Fitting the ANN to the Training set\n",
    "classifier.fit(X, y, batch_size = 20, epochs = 100)\n",
    "\n",
    "# Part 3 - Making predictions and evaluating the model\n",
    "\n",
    "# Predicting the Test set results\n",
    "y_pred = classifier.predict(X_test)\n",
    "#y_pred = y_pred[:,0]\n",
    "y_pred = (y_pred > 0.5)\n",
    "#result = (y_pred == y_test).sum()\n",
    "\n",
    "\n",
    "new_pred = classifier.predict(sc.transform(np.array([[0.0, 0, 600, 1, 40, 3, 60000, 2, 1, 1, 50000]])))\n",
    "new_pred = (new_pred > 0.5)\n",
    "# Making the Confusion Matrix\n",
    "from sklearn.metrics import confusion_matrix\n",
    "cm = confusion_matrix(y_test, y_pred)"
   ]
  },
  {
   "cell_type": "code",
   "execution_count": null,
   "metadata": {
    "collapsed": true
   },
   "outputs": [],
   "source": [
    "# Dummy Variables\n",
    "\n",
    "# Load Status Column\n",
    "y = labelencoder_X_2.fit_transform(y)\n",
    "\n",
    "# Gender Column\n",
    "oneHotEncoder_X_2 = OneHotEncoder(categorical_features=[0])\n",
    "X = oneHotEncoder_X_2.fit_transform(X).toarray()\n",
    "\n",
    "\n",
    "# Gender Column\n",
    "oneHotEncoder_X_2 = OneHotEncoder(categorical_features=[4])\n",
    "X = oneHotEncoder_X_2.fit_transform(X).toarray()\n",
    "\n",
    "\n",
    "oneHotEncoder_X_2 = OneHotEncoder(categorical_features=[16])\n",
    "X = oneHotEncoder_X_2.fit_transform(X).toarray()"
   ]
  },
  {
   "cell_type": "code",
   "execution_count": null,
   "metadata": {
    "collapsed": true
   },
   "outputs": [],
   "source": [
    "# Feature Extraction\n"
   ]
  },
  {
   "cell_type": "code",
   "execution_count": null,
   "metadata": {
    "collapsed": true
   },
   "outputs": [],
   "source": [
    "# Feature Selection\n",
    "from sklearn.model_selection import train_test_split\n",
    "X_train, X_test, y_train, y_test = train_test_split(X, y, test_size=0.2, random_state=0) \n",
    "\n",
    "from sklearn.ensemble import RandomForestClassifier\n",
    "from  EstimatorSelectionHelper import EstimatorSelectionHelper\n",
    "from xgboost import XGBClassifier\n",
    "from sklearn.metrics import accuracy_score\n",
    "\n",
    "#models = {\n",
    "#            'RandomForestClassifier' : RandomForestClassifier()\n",
    "#            }\n",
    "#    \n",
    "#parameter = {\n",
    "#            'RandomForestClassifier' : { 'max_depth' : [2,5,7,9],\n",
    "#                                        'n_estimators': [200, 700],\n",
    "#                                        'max_features': ['auto', 'sqrt', 'log2'],\n",
    "#                                        'criterion' : ['gini', 'entropy']}\n",
    "#            }\n",
    "    \n",
    "#classifier = EstimatorSelectionHelper(models, parameter)\n",
    "#classifier.fit(X, y, scoring='f1', cv = 3, n_jobs=1,refit=True,verbose=2)\n",
    "#\n",
    "#result.to_csv('test', sep='\\t', encoding='utf-8')\n",
    "#\n",
    "#from prettytable import PrettyTable\n",
    "#from prettytable import from_csv\n",
    "#fp = open(\"test\", \"r\")\n",
    "#mytable = from_csv(fp)\n",
    "#print(mytable)\n",
    "#     \n",
    "#\n",
    "#for tempObj in parameter.keys():\n",
    "#    y_pred = classifier.predict_on_bestEstimator(X_test,'RandomForestClassifier')\n",
    "#    print(\"%s Predition on Test Data\" % tempObj)\n",
    "#    cm = classifier.confusionMatrix(y_test,y_pred)\n",
    "#    plt.figure()\n",
    "#    classifier.plot_confusion_matrix(cm, classes=['class 0','class 1'],\n",
    "#                      title='Confusion matrix, without normalization')\n",
    "#\n",
    "#    classifier.plotConfusionMatrix(cm)\n",
    "\n",
    "classifier = XGBClassifier()\n",
    "classifier.fit(X,y)\n",
    "y_pred = classifier.predict(X_test)\n",
    "\n",
    "predictions = [round(value) for value in y_pred]\n",
    "# evaluate predictions\n",
    "accuracy = accuracy_score(y_test, predictions)\n",
    "print(\"Accuracy: %.2f%%\" % (accuracy * 100.0))\n",
    "#------------------------------------------------ X_train Data ----------------------------------------------------------------#"
   ]
  },
  {
   "cell_type": "code",
   "execution_count": null,
   "metadata": {
    "collapsed": true
   },
   "outputs": [],
   "source": [
    "#------------------------------------------------ X_test Data ----------------------------------------------------------------#\n",
    "\n",
    "#---------------- Fill Mising Values--------------------------------#\n",
    "originalTestData = pd.read_csv('./test_Y3wMUE5_7gLdaTN.csv')\n",
    "# Missing Value\n",
    "miss_data = originalTestData.isnull().sum(axis=0)\n",
    "print(miss_data)\n",
    "\n",
    "## Gender Column\n",
    "originalTestData['Gender'].fillna('Other', inplace = True)\n",
    "\n",
    "## Dependents Column\n",
    "originalTestData['Dependents'].fillna('4', inplace = True)\n",
    "\n",
    "## Self_Employed Column\n",
    "originalTestData['Self_Employed'].fillna('Yes', inplace = True)\n",
    "\n",
    "## LoanAmount Column\n",
    "originalTestData['LoanAmount'].fillna((originalTestData['LoanAmount'].mean()), inplace = True)\n",
    "\n",
    "## Loan_Amount_Term Column\n",
    "originalTestData['Loan_Amount_Term'].fillna((originalTestData['Loan_Amount_Term'].mean()), inplace = True)\n",
    "\n",
    "## Credit_History Column\n",
    "originalTestData['Credit_History'].fillna((originalTestData['Credit_History'].mean()), inplace = True)\n",
    "\n",
    "#---------------- Fill Mising Values--------------------------------"
   ]
  },
  {
   "cell_type": "code",
   "execution_count": null,
   "metadata": {
    "collapsed": true
   },
   "outputs": [],
   "source": [
    "# Label Encoding categorical data\n",
    "X_test = originalTestData.iloc[:,1:12].values\n",
    "\n",
    "# Gender Column\n",
    "X_test[:, 0] = labelencoder_X_2.fit_transform(X_test[:, 0])\n",
    "\n",
    "# Married Column\n",
    "X_test[:, 1] = labelencoder_X_2.fit_transform(X_test[:, 1])\n",
    "\n",
    "# Dependents Column\n",
    "X_test[:, 2] = labelencoder_X_2.fit_transform(X_test[:, 2])\n",
    "\n",
    "# EducationColumn\n",
    "X_test[:, 3] = labelencoder_X_2.fit_transform(X_test[:, 3])\n",
    "\n",
    "# Self_Employed  Column\n",
    "X_test[:, 4] = labelencoder_X_2.fit_transform(X_test[:, 4])\n",
    "\n",
    "# Property Area Column\n",
    "X_test[:, 10] = labelencoder_X_2.fit_transform(X_test[:, 10])"
   ]
  },
  {
   "cell_type": "code",
   "execution_count": null,
   "metadata": {
    "collapsed": true
   },
   "outputs": [],
   "source": [
    "# Dummy Variables"
   ]
  },
  {
   "cell_type": "code",
   "execution_count": null,
   "metadata": {},
   "outputs": [],
   "source": [
    "# Gender Column\n",
    "oneHotEncoder_X_2 = OneHotEncoder(categorical_features=[0])\n",
    "X_test = oneHotEncoder_X_2.fit_transform(X_test).toarray()\n",
    "\n",
    "\n",
    "# Gender Column\n",
    "oneHotEncoder_X_2 = OneHotEncoder(categorical_features=[4])\n",
    "X_test = oneHotEncoder_X_2.fit_transform(X_test).toarray()\n",
    "\n",
    "# Gender Column\n",
    "oneHotEncoder_X_2 = OneHotEncoder(categorical_features=[16])\n",
    "X_test = oneHotEncoder_X_2.fit_transform(X_test).toarray()\n",
    "\n",
    "#y_pred_Train = classifier.predict_on_bestEstimator(X_test,'RandomForestClassifier')\n",
    "\n",
    "y_pred_Train = classifier.predict(X_test)\n",
    "\n",
    "\n",
    "\n",
    "y_pred_Train = [\"Y\" if i == 1 else \"N\" for i in y_pred_Train]\n",
    "pd.DataFrame({\"Loan_ID\" : originalTestData.Loan_ID, \"Loan_Status\" : y_pred_Train}).to_csv('sample_submission.csv', index=False)\n",
    "result = classifier.score_summary(sort_by='min_score')\n"
   ]
  },
  {
   "cell_type": "code",
   "execution_count": null,
   "metadata": {
    "collapsed": true
   },
   "outputs": [],
   "source": []
  },
  {
   "cell_type": "code",
   "execution_count": null,
   "metadata": {
    "collapsed": true
   },
   "outputs": [],
   "source": []
  },
  {
   "cell_type": "code",
   "execution_count": null,
   "metadata": {
    "collapsed": true
   },
   "outputs": [],
   "source": []
  },
  {
   "cell_type": "code",
   "execution_count": null,
   "metadata": {
    "collapsed": true
   },
   "outputs": [],
   "source": []
  },
  {
   "cell_type": "code",
   "execution_count": null,
   "metadata": {
    "collapsed": true
   },
   "outputs": [],
   "source": []
  },
  {
   "cell_type": "code",
   "execution_count": null,
   "metadata": {
    "collapsed": true
   },
   "outputs": [],
   "source": []
  },
  {
   "cell_type": "code",
   "execution_count": null,
   "metadata": {
    "collapsed": true
   },
   "outputs": [],
   "source": []
  },
  {
   "cell_type": "code",
   "execution_count": null,
   "metadata": {
    "collapsed": true
   },
   "outputs": [],
   "source": []
  },
  {
   "cell_type": "code",
   "execution_count": null,
   "metadata": {
    "collapsed": true
   },
   "outputs": [],
   "source": []
  },
  {
   "cell_type": "code",
   "execution_count": null,
   "metadata": {
    "collapsed": true
   },
   "outputs": [],
   "source": []
  },
  {
   "cell_type": "code",
   "execution_count": null,
   "metadata": {
    "collapsed": true
   },
   "outputs": [],
   "source": []
  },
  {
   "cell_type": "code",
   "execution_count": null,
   "metadata": {
    "collapsed": true
   },
   "outputs": [],
   "source": []
  },
  {
   "cell_type": "code",
   "execution_count": null,
   "metadata": {
    "collapsed": true
   },
   "outputs": [],
   "source": []
  },
  {
   "cell_type": "code",
   "execution_count": null,
   "metadata": {
    "collapsed": true
   },
   "outputs": [],
   "source": []
  },
  {
   "cell_type": "code",
   "execution_count": null,
   "metadata": {
    "collapsed": true
   },
   "outputs": [],
   "source": []
  },
  {
   "cell_type": "code",
   "execution_count": null,
   "metadata": {
    "collapsed": true
   },
   "outputs": [],
   "source": []
  },
  {
   "cell_type": "code",
   "execution_count": null,
   "metadata": {
    "collapsed": true
   },
   "outputs": [],
   "source": []
  },
  {
   "cell_type": "code",
   "execution_count": null,
   "metadata": {
    "collapsed": true
   },
   "outputs": [],
   "source": []
  },
  {
   "cell_type": "code",
   "execution_count": null,
   "metadata": {
    "collapsed": true
   },
   "outputs": [],
   "source": []
  },
  {
   "cell_type": "code",
   "execution_count": null,
   "metadata": {
    "collapsed": true
   },
   "outputs": [],
   "source": []
  },
  {
   "cell_type": "code",
   "execution_count": null,
   "metadata": {
    "collapsed": true
   },
   "outputs": [],
   "source": []
  },
  {
   "cell_type": "code",
   "execution_count": null,
   "metadata": {
    "collapsed": true
   },
   "outputs": [],
   "source": []
  },
  {
   "cell_type": "code",
   "execution_count": null,
   "metadata": {
    "collapsed": true
   },
   "outputs": [],
   "source": []
  },
  {
   "cell_type": "code",
   "execution_count": null,
   "metadata": {
    "collapsed": true
   },
   "outputs": [],
   "source": []
  },
  {
   "cell_type": "code",
   "execution_count": null,
   "metadata": {
    "collapsed": true
   },
   "outputs": [],
   "source": []
  },
  {
   "cell_type": "code",
   "execution_count": null,
   "metadata": {
    "collapsed": true
   },
   "outputs": [],
   "source": []
  },
  {
   "cell_type": "code",
   "execution_count": null,
   "metadata": {
    "collapsed": true
   },
   "outputs": [],
   "source": []
  }
 ],
 "metadata": {
  "kernelspec": {
   "display_name": "Python 3",
   "language": "python",
   "name": "python3"
  },
  "language_info": {
   "codemirror_mode": {
    "name": "ipython",
    "version": 3
   },
   "file_extension": ".py",
   "mimetype": "text/x-python",
   "name": "python",
   "nbconvert_exporter": "python",
   "pygments_lexer": "ipython3",
   "version": "3.6.3"
  }
 },
 "nbformat": 4,
 "nbformat_minor": 2
}
