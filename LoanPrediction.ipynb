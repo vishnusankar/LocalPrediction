{
 "cells": [
  {
   "cell_type": "code",
   "execution_count": null,
   "metadata": {},
   "outputs": [],
   "source": [
    "%matplotlib inline\n",
    "\n",
    "from sklearn.preprocessing import Imputer\n",
    "from HelperClass import HelperClass\n",
    "\n",
    "import numpy as np\n",
    "import pandas as pd\n",
    "import matplotlib.pyplot as plt\n",
    "from xgboost import plot_tree\n",
    "\n",
    "import seaborn as sns\n",
    "sns.set(style='darkgrid')\n",
    "\n",
    "\n",
    "trainData = pd.read_csv('./train_u6lujuX_CVtuZ9i.csv')\n",
    "trainData.shape\n",
    "\n",
    "trainData.head(10)"
   ]
  },
  {
   "cell_type": "code",
   "execution_count": null,
   "metadata": {
    "scrolled": true
   },
   "outputs": [],
   "source": [
    "# Missing Value\n",
    "miss_data = trainData.isnull().sum(axis=0)\n",
    "print(miss_data)"
   ]
  },
  {
   "cell_type": "code",
   "execution_count": null,
   "metadata": {},
   "outputs": [],
   "source": [
    "#------------------------------------------------ X_train Data ----------------------------------------------------------------#\n",
    "\n",
    "#---------------- Fill Mising Values--------------------------------#\n",
    "## Gender Column\n",
    "trainData['Gender'].fillna('Other', inplace = True)\n",
    "\n",
    "## Married Column\n",
    "trainData['Married'].fillna('Yes', inplace = True)\n",
    "\n",
    "## Dependents Column\n",
    "trainData['Dependents'].fillna('4', inplace = True)\n",
    "\n",
    "## Self_Employed Column\n",
    "trainData['Self_Employed'].fillna('Yes', inplace = True)\n",
    "\n",
    "## LoanAmount Column\n",
    "trainData['LoanAmount'].fillna((trainData['LoanAmount'].mean()), inplace = True)\n",
    "\n",
    "## Loan_Amount_Term Column\n",
    "trainData['Loan_Amount_Term'].fillna((trainData['Loan_Amount_Term'].mean()), inplace = True)\n",
    "\n",
    "## Credit_History Column\n",
    "trainData['Credit_History'].fillna((trainData['Credit_History'].mean()), inplace = True)\n",
    "\n",
    "# Missing Value After filled\n",
    "miss_data = trainData.isnull().sum(axis=0)\n",
    "print(miss_data)"
   ]
  },
  {
   "cell_type": "code",
   "execution_count": null,
   "metadata": {},
   "outputs": [],
   "source": [
    "trainData['Gender'] = trainData['Gender'].map({'Female' : 0, 'Male' : 1})\n",
    "trainData['Married'] = trainData['Married'].map({'No':0, 'Yes':1})\n",
    "trainData['Education'] = trainData['Education'].map({'Not Graduate':0, 'Graduate':1})\n",
    "trainData['Self_Employed'] = trainData['Self_Employed'].map({'No':0, 'Yes':1})\n",
    "trainData['Property_Area'] = trainData['Property_Area'].map({'Urban':3, 'Semiurban':2, 'Rural':1})\n",
    "trainData['Loan_Status'] = trainData['Loan_Status'].map({'N' : 0, 'Y' : 1})"
   ]
  },
  {
   "cell_type": "code",
   "execution_count": null,
   "metadata": {},
   "outputs": [],
   "source": [
    "sns.barplot(x = 'Gender', y ='Loan_Status', data=trainData)"
   ]
  },
  {
   "cell_type": "code",
   "execution_count": null,
   "metadata": {},
   "outputs": [],
   "source": [
    "sns.barplot(x = 'Education', y ='Loan_Status', data=trainData)"
   ]
  },
  {
   "cell_type": "code",
   "execution_count": null,
   "metadata": {},
   "outputs": [],
   "source": [
    "sns.barplot(x = 'Education', y ='Loan_Status', data=trainData)"
   ]
  },
  {
   "cell_type": "code",
   "execution_count": null,
   "metadata": {},
   "outputs": [],
   "source": [
    "sns.barplot(x = 'Self_Employed', y ='Loan_Status', data=trainData)"
   ]
  },
  {
   "cell_type": "code",
   "execution_count": null,
   "metadata": {},
   "outputs": [],
   "source": [
    "sns.barplot(x = 'Property_Area', y ='Loan_Status', data=trainData)"
   ]
  },
  {
   "cell_type": "code",
   "execution_count": null,
   "metadata": {},
   "outputs": [],
   "source": [
    "sns.barplot(x='Credit_History', y='Loan_Status', data=trainData)"
   ]
  },
  {
   "cell_type": "code",
   "execution_count": null,
   "metadata": {},
   "outputs": [],
   "source": [
    "#---------------- Label Encoding Values--------------------------------\n",
    "\n",
    "# Label Encoding categorical data\n",
    "X = trainData.iloc[:,1:12].values\n",
    "y = trainData.iloc[:, 12].values\n",
    "\n",
    "from sklearn.preprocessing import LabelEncoder, OneHotEncoder\n",
    "from HelperClass import HelperClass\n",
    "\n",
    "labelencoder_X_2 = LabelEncoder()\n",
    "\n",
    "# Gender Column\n",
    "X[:, 0] = labelencoder_X_2.fit_transform(X[:, 0])\n",
    "\n",
    "# Married Column\n",
    "X[:, 1] = labelencoder_X_2.fit_transform(X[:, 1])\n",
    "\n",
    "# Dependents Column\n",
    "X[:, 2] = labelencoder_X_2.fit_transform(X[:, 2])\n",
    "\n",
    "# Self_Employed Column\n",
    "X[:, 3] = labelencoder_X_2.fit_transform(X[:, 3])\n",
    "\n",
    "# Education Column\n",
    "X[:, 4] = labelencoder_X_2.fit_transform(X[:, 4])\n",
    "\n",
    "# Property Area Column\n",
    "X[:, 10] = labelencoder_X_2.fit_transform(X[:, 10])\n",
    "\n",
    "X"
   ]
  },
  {
   "cell_type": "code",
   "execution_count": null,
   "metadata": {},
   "outputs": [],
   "source": [
    "import keras\n",
    "from keras.models import Sequential\n",
    "from keras.layers import Dense\n",
    "from keras.layers import Dropout\n",
    "\n",
    "from sklearn.model_selection import train_test_split\n",
    "X_train, X_test, y_train, y_test = train_test_split(X, y, test_size=0.2, random_state=0) \n",
    "\n",
    "# Initialising the ANN\n",
    "classifier = Sequential()\n",
    "\n",
    "# Adding the input layer and the first hidden layer with dropout \n",
    "classifier.add(Dense(units = 6, kernel_initializer = 'uniform', activation = 'relu', input_dim = 11))\n",
    "#classifier.add(Dropout(p = 0.1))\n",
    "# Adding the second hidden layer\n",
    "classifier.add(Dense(units = 6, kernel_initializer = 'uniform', activation = 'relu'))\n",
    "#classifier.add(Dropout(p = 0.1))\n",
    "# Adding the output layer\n",
    "classifier.add(Dense(units = 1, kernel_initializer = 'uniform', activation = 'sigmoid'))\n",
    "\n",
    "# Compiling the ANN\n",
    "classifier.compile(optimizer = 'adam', loss = 'binary_crossentropy', metrics = ['accuracy'])\n",
    "\n",
    "# Fitting the ANN to the Training set\n",
    "classifier.fit(X, y, batch_size = 20, epochs = 100)\n",
    "\n",
    "# Part 3 - Making predictions and evaluating the model\n",
    "\n",
    "# Predicting the Test set results\n",
    "y_pred = classifier.predict(X_test)\n",
    "#y_pred = y_pred[:,0]\n",
    "y_pred = (y_pred > 0.5)\n",
    "#result = (y_pred == y_test).sum()\n",
    "\n",
    "\n",
    "new_pred = classifier.predict(sc.transform(np.array([[0.0, 0, 600, 1, 40, 3, 60000, 2, 1, 1, 50000]])))\n",
    "new_pred = (new_pred > 0.5)\n",
    "# Making the Confusion Matrix\n",
    "from sklearn.metrics import confusion_matrix\n",
    "cm = confusion_matrix(y_test, y_pred)"
   ]
  },
  {
   "cell_type": "code",
   "execution_count": null,
   "metadata": {
    "collapsed": true
   },
   "outputs": [],
   "source": [
    "# Dummy Variables\n",
    "\n",
    "# Load Status Column\n",
    "y = labelencoder_X_2.fit_transform(y)\n",
    "\n",
    "# Gender Column\n",
    "oneHotEncoder_X_2 = OneHotEncoder(categorical_features=[0])\n",
    "X = oneHotEncoder_X_2.fit_transform(X).toarray()\n",
    "\n",
    "\n",
    "# Gender Column\n",
    "oneHotEncoder_X_2 = OneHotEncoder(categorical_features=[4])\n",
    "X = oneHotEncoder_X_2.fit_transform(X).toarray()\n",
    "\n",
    "\n",
    "oneHotEncoder_X_2 = OneHotEncoder(categorical_features=[16])\n",
    "X = oneHotEncoder_X_2.fit_transform(X).toarray()"
   ]
  },
  {
   "cell_type": "code",
   "execution_count": null,
   "metadata": {
    "collapsed": true
   },
   "outputs": [],
   "source": [
    "# Feature Extraction\n"
   ]
  },
  {
   "cell_type": "code",
   "execution_count": 37,
   "metadata": {},
   "outputs": [
    {
     "data": {
      "image/png": "[encoded data removed]",
      "text/plain": [
       "<matplotlib.figure.Figure at 0x1286f4828>"
      ]
     },
     "metadata": {},
     "output_type": "display_data"
    },
    {
     "name": "stdout",
     "output_type": "stream",
     "text": [
      "Accuracy: 86.99%\n"
     ]
    }
   ],
   "source": [
    "# Feature Selection\n",
    "from sklearn.model_selection import train_test_split\n",
    "X_train, X_test, y_train, y_test = train_test_split(X, y, test_size=0.2, random_state=0) \n",
    "\n",
    "from sklearn.ensemble import RandomForestClassifier\n",
    "from  EstimatorSelectionHelper import EstimatorSelectionHelper\n",
    "from xgboost import XGBClassifier\n",
    "from xgboost import plot_tree\n",
    "from sklearn.metrics import accuracy_score\n",
    "\n",
    "#models = {\n",
    "#            'RandomForestClassifier' : RandomForestClassifier()\n",
    "#            }\n",
    "#    \n",
    "#parameter = {\n",
    "#            'RandomForestClassifier' : { 'max_depth' : [2,5,7,9],\n",
    "#                                        'n_estimators': [200, 700],\n",
    "#                                        'max_features': ['auto', 'sqrt', 'log2'],\n",
    "#                                        'criterion' : ['gini', 'entropy']}\n",
    "#            }\n",
    "    \n",
    "#classifier = EstimatorSelectionHelper(models, parameter)\n",
    "#classifier.fit(X, y, scoring='f1', cv = 3, n_jobs=1,refit=True,verbose=2)\n",
    "#\n",
    "#result.to_csv('test', sep='\\t', encoding='utf-8')\n",
    "#\n",
    "#from prettytable import PrettyTable\n",
    "#from prettytable import from_csv\n",
    "#fp = open(\"test\", \"r\")\n",
    "#mytable = from_csv(fp)\n",
    "#print(mytable)\n",
    "#     \n",
    "#\n",
    "#for tempObj in parameter.keys():\n",
    "#    y_pred = classifier.predict_on_bestEstimator(X_test,'RandomForestClassifier')\n",
    "#    print(\"%s Predition on Test Data\" % tempObj)\n",
    "#    cm = classifier.confusionMatrix(y_test,y_pred)\n",
    "#    plt.figure()\n",
    "#    classifier.plot_confusion_matrix(cm, classes=['class 0','class 1'],\n",
    "#                      title='Confusion matrix, without normalization')\n",
    "#\n",
    "#    classifier.plotConfusionMatrix(cm)\n",
    "\n",
    "classifier = XGBClassifier()\n",
    "classifier.fit(X,y)\n",
    "y_pred = classifier.predict(X_test)\n",
    "\n",
    "plot_tree(classifier)\n",
    "plt.show()\n",
    "\n",
    "predictions = [round(value) for value in y_pred]\n",
    "# evaluate predictions\n",
    "accuracy = accuracy_score(y_test, predictions)\n",
    "print(\"Accuracy: %.2f%%\" % (accuracy * 100.0))\n",
    "#------------------------------------------------ X_train Data ----------------------------------------------------------------#"
   ]
  },
  {
   "cell_type": "code",
   "execution_count": null,
   "metadata": {
    "collapsed": true
   },
   "outputs": [],
   "source": [
    "#------------------------------------------------ X_test Data ----------------------------------------------------------------#\n",
    "\n",
    "#---------------- Fill Mising Values--------------------------------#\n",
    "originalTestData = pd.read_csv('./test_Y3wMUE5_7gLdaTN.csv')\n",
    "# Missing Value\n",
    "miss_data = originalTestData.isnull().sum(axis=0)\n",
    "print(miss_data)\n",
    "\n",
    "## Gender Column\n",
    "originalTestData['Gender'].fillna('Other', inplace = True)\n",
    "\n",
    "## Dependents Column\n",
    "originalTestData['Dependents'].fillna('4', inplace = True)\n",
    "\n",
    "## Self_Employed Column\n",
    "originalTestData['Self_Employed'].fillna('Yes', inplace = True)\n",
    "\n",
    "## LoanAmount Column\n",
    "originalTestData['LoanAmount'].fillna((originalTestData['LoanAmount'].mean()), inplace = True)\n",
    "\n",
    "## Loan_Amount_Term Column\n",
    "originalTestData['Loan_Amount_Term'].fillna((originalTestData['Loan_Amount_Term'].mean()), inplace = True)\n",
    "\n",
    "## Credit_History Column\n",
    "originalTestData['Credit_History'].fillna((originalTestData['Credit_History'].mean()), inplace = True)\n",
    "\n",
    "#---------------- Fill Mising Values--------------------------------"
   ]
  },
  {
   "cell_type": "code",
   "execution_count": null,
   "metadata": {
    "collapsed": true
   },
   "outputs": [],
   "source": [
    "# Label Encoding categorical data\n",
    "X_test = originalTestData.iloc[:,1:12].values\n",
    "\n",
    "# Gender Column\n",
    "X_test[:, 0] = labelencoder_X_2.fit_transform(X_test[:, 0])\n",
    "\n",
    "# Married Column\n",
    "X_test[:, 1] = labelencoder_X_2.fit_transform(X_test[:, 1])\n",
    "\n",
    "# Dependents Column\n",
    "X_test[:, 2] = labelencoder_X_2.fit_transform(X_test[:, 2])\n",
    "\n",
    "# EducationColumn\n",
    "X_test[:, 3] = labelencoder_X_2.fit_transform(X_test[:, 3])\n",
    "\n",
    "# Self_Employed  Column\n",
    "X_test[:, 4] = labelencoder_X_2.fit_transform(X_test[:, 4])\n",
    "\n",
    "# Property Area Column\n",
    "X_test[:, 10] = labelencoder_X_2.fit_transform(X_test[:, 10])"
   ]
  },
  {
   "cell_type": "code",
   "execution_count": null,
   "metadata": {
    "collapsed": true
   },
   "outputs": [],
   "source": [
    "# Dummy Variables"
   ]
  },
  {
   "cell_type": "code",
   "execution_count": null,
   "metadata": {},
   "outputs": [],
   "source": [
    "# Gender Column\n",
    "#oneHotEncoder_X_2 = OneHotEncoder(categorical_features=[0])\n",
    "#X_test = oneHotEncoder_X_2.fit_transform(X_test).toarray()\n",
    "\n",
    "\n",
    "# Gender Column\n",
    "#oneHotEncoder_X_2 = OneHotEncoder(categorical_features=[4])\n",
    "#X_test = oneHotEncoder_X_2.fit_transform(X_test).toarray()\n",
    "\n",
    "# Gender Column\n",
    "#oneHotEncoder_X_2 = OneHotEncoder(categorical_features=[16])\n",
    "#X_test = oneHotEncoder_X_2.fit_transform(X_test).toarray()\n",
    "\n",
    "#y_pred_Train = classifier.predict_on_bestEstimator(X_test,'RandomForestClassifier')\n",
    "\n",
    "y_pred_Train = classifier.predict(X_test)\n",
    "\n",
    "\n",
    "\n",
    "y_pred_Train = [\"Y\" if i == 1 else \"N\" for i in y_pred_Train]\n",
    "pd.DataFrame({\"Loan_ID\" : originalTestData.Loan_ID, \"Loan_Status\" : y_pred_Train}).to_csv('sample_submission.csv', index=False)\n",
    "result = classifier.score_summary(sort_by='min_score')\n"
   ]
  },
  {
   "cell_type": "code",
   "execution_count": null,
   "metadata": {
    "collapsed": true
   },
   "outputs": [],
   "source": []
  },
  {
   "cell_type": "code",
   "execution_count": null,
   "metadata": {
    "collapsed": true
   },
   "outputs": [],
   "source": []
  },
  {
   "cell_type": "code",
   "execution_count": null,
   "metadata": {
    "collapsed": true
   },
   "outputs": [],
   "source": []
  },
  {
   "cell_type": "code",
   "execution_count": null,
   "metadata": {
    "collapsed": true
   },
   "outputs": [],
   "source": []
  },
  {
   "cell_type": "code",
   "execution_count": null,
   "metadata": {
    "collapsed": true
   },
   "outputs": [],
   "source": []
  },
  {
   "cell_type": "code",
   "execution_count": null,
   "metadata": {
    "collapsed": true
   },
   "outputs": [],
   "source": []
  },
  {
   "cell_type": "code",
   "execution_count": null,
   "metadata": {
    "collapsed": true
   },
   "outputs": [],
   "source": []
  },
  {
   "cell_type": "code",
   "execution_count": null,
   "metadata": {
    "collapsed": true
   },
   "outputs": [],
   "source": []
  },
  {
   "cell_type": "code",
   "execution_count": null,
   "metadata": {
    "collapsed": true
   },
   "outputs": [],
   "source": []
  },
  {
   "cell_type": "code",
   "execution_count": null,
   "metadata": {
    "collapsed": true
   },
   "outputs": [],
   "source": []
  },
  {
   "cell_type": "code",
   "execution_count": null,
   "metadata": {
    "collapsed": true
   },
   "outputs": [],
   "source": []
  },
  {
   "cell_type": "code",
   "execution_count": null,
   "metadata": {
    "collapsed": true
   },
   "outputs": [],
   "source": []
  },
  {
   "cell_type": "code",
   "execution_count": null,
   "metadata": {
    "collapsed": true
   },
   "outputs": [],
   "source": []
  },
  {
   "cell_type": "code",
   "execution_count": null,
   "metadata": {
    "collapsed": true
   },
   "outputs": [],
   "source": []
  },
  {
   "cell_type": "code",
   "execution_count": null,
   "metadata": {
    "collapsed": true
   },
   "outputs": [],
   "source": []
  },
  {
   "cell_type": "code",
   "execution_count": null,
   "metadata": {
    "collapsed": true
   },
   "outputs": [],
   "source": []
  },
  {
   "cell_type": "code",
   "execution_count": null,
   "metadata": {
    "collapsed": true
   },
   "outputs": [],
   "source": []
  },
  {
   "cell_type": "code",
   "execution_count": null,
   "metadata": {
    "collapsed": true
   },
   "outputs": [],
   "source": []
  },
  {
   "cell_type": "code",
   "execution_count": null,
   "metadata": {
    "collapsed": true
   },
   "outputs": [],
   "source": []
  },
  {
   "cell_type": "code",
   "execution_count": null,
   "metadata": {
    "collapsed": true
   },
   "outputs": [],
   "source": []
  },
  {
   "cell_type": "code",
   "execution_count": null,
   "metadata": {
    "collapsed": true
   },
   "outputs": [],
   "source": []
  },
  {
   "cell_type": "code",
   "execution_count": null,
   "metadata": {
    "collapsed": true
   },
   "outputs": [],
   "source": []
  },
  {
   "cell_type": "code",
   "execution_count": null,
   "metadata": {
    "collapsed": true
   },
   "outputs": [],
   "source": []
  },
  {
   "cell_type": "code",
   "execution_count": null,
   "metadata": {
    "collapsed": true
   },
   "outputs": [],
   "source": []
  },
  {
   "cell_type": "code",
   "execution_count": null,
   "metadata": {
    "collapsed": true
   },
   "outputs": [],
   "source": []
  },
  {
   "cell_type": "code",
   "execution_count": null,
   "metadata": {
    "collapsed": true
   },
   "outputs": [],
   "source": []
  },
  {
   "cell_type": "code",
   "execution_count": null,
   "metadata": {
    "collapsed": true
   },
   "outputs": [],
   "source": []
  }
 ],
 "metadata": {
  "kernelspec": {
   "display_name": "Python 3",
   "language": "python",
   "name": "python3"
  },
  "language_info": {
   "codemirror_mode": {
    "name": "ipython",
    "version": 3
   },
   "file_extension": ".py",
   "mimetype": "text/x-python",
   "name": "python",
   "nbconvert_exporter": "python",
   "pygments_lexer": "ipython3",
   "version": "3.6.3"
  }
 },
 "nbformat": 4,
 "nbformat_minor": 2
}
